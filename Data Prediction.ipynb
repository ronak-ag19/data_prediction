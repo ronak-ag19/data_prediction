{
 "cells": [
  {
   "cell_type": "markdown",
   "metadata": {},
   "source": [
    "# Data Prediction\n",
    "\n",
    "A moving average is a calculation used to analyze data points by creating a series of averages of different subsets of the full data set. Two most popular types of moving averages are:\n",
    "#### 1. Simple Moving Average (SMA)\n",
    "\n",
    "SMA is formed by computing the average of the sample data over a specific number of periods.\n",
    "#### 2. Exponential Moving Average (EMA)\n",
    "\n",
    "EMAs reduces the lag by applying more weight to the recent data. The weighting applied to the most recent data depends on the number of periods in the moving average.\n",
    "\n",
    "               𝑭𝒏=𝑨𝒏−𝟏 + 𝜶(𝑨𝒏−𝟏−𝑭𝒏−𝟏) ; \n",
    "- Fn = the predicted smoothened data point , where F1 = A1\n",
    "- Fn-1 = the previous smoothened data point\n",
    "- An-1 = the observed data point\n",
    "- a (alpha) = the smoothening factor, which ranges from 0 to 1\n",
    "\n",
    "\n",
    "#### Develop Python program to calculate the following:\n",
    "\n",
    "\n",
    "- 3 month Simple moving average\n",
    "- Exponential Moving Average\n",
    "- Compare both methods and justify which one is bettet. (Using RMSE method)\n",
    "\n"
   ]
  },
  {
   "cell_type": "code",
   "execution_count": null,
   "metadata": {},
   "outputs": [],
   "source": [
    "import pandas as pd\n",
    "\n",
    "n=input(\"Please enter the number of data sets: \")\n",
    "\n",
    "month = []\n",
    "madt = []    # monthly average daily traffic\n",
    "\n",
    "for i in range(0,int(n)):\n",
    "    data = input('Enter Month & Original MADT separated by \":\" ')\n",
    "    temp = data.split(':')\n",
    "    month.append(temp[0])\n",
    "    madt.append(int(temp[1]))\n",
    "\n",
    "collection = {'Month':month, 'Original MADT':madt} \n",
    "data = pd.DataFrame(collection)\n",
    "\n",
    "\n",
    "a=input(\"Please enter the value of alpha between 0 to 1: \") # smoothening Factor \n",
    "\n",
    "if float(a)>0 and float(a)<1:    # The value of alpha ranges from 0 to 1\n",
    "    print(\"\")\n",
    "    \n",
    "else:\n",
    "    print(\"Alpha value you entered should be between 0 to 1\")\n",
    "   \n",
    "a=float(a)\n",
    "expo_smooth=[]\n",
    "\n",
    "\n",
    "expo_smooth.append(madt[0])\n",
    "for i in range(1,len(madt)):\n",
    "    expo_smooth.append(madt[i-1]+a*(madt[i-1]-expo_smooth[i-1]))\n",
    "    \n",
    "moving_avg = (data['Original MADT'].shift(1) + data['Original MADT'].shift(2) + data['Original MADT'].shift(3))/3\n",
    "data['Moving Average'] = moving_avg\n",
    "data['Expo_smooth'] = expo_smooth\n",
    "print (data)\n"
   ]
  }
 ],
 "metadata": {
  "kernelspec": {
   "display_name": "Python 3",
   "language": "python",
   "name": "python3"
  },
  "language_info": {
   "codemirror_mode": {
    "name": "ipython",
    "version": 3
   },
   "file_extension": ".py",
   "mimetype": "text/x-python",
   "name": "python",
   "nbconvert_exporter": "python",
   "pygments_lexer": "ipython3",
   "version": "3.6.5"
  }
 },
 "nbformat": 4,
 "nbformat_minor": 2
}
